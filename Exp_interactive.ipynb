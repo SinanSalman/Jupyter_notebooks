{
 "cells": [
  {
   "cell_type": "code",
   "execution_count": 66,
   "metadata": {},
   "outputs": [],
   "source": [
    "%matplotlib widget\n",
    "%config InlineBackend.figure_format = 'retina'\n",
    "import numpy as np\n",
    "import matplotlib.pyplot as plt\n",
    "import seaborn as sb\n",
    "import math\n",
    "sb.set_context(\"paper\")\n",
    "sb.set(rc={'figure.figsize': (10, 6)})\n",
    "sb.set_style(\"whitegrid\")\n",
    "import ipywidgets as widgets"
   ]
  },
  {
   "cell_type": "code",
   "execution_count": 2,
   "metadata": {},
   "outputs": [],
   "source": [
    "def N(K,b,c,p,r,𝜃max,tmax=None,T=0,𝜇=None,𝜎=None):\n",
    "    if 𝜇 is None: 𝜇 = tmax / 2  # duration of a pandemic mean, 𝜇 = (𝑎+𝑏)/2\n",
    "    if 𝜎 is None: 𝜎 = tmax / math.sqrt(12)  # duration of a pandemic std deviation, 𝜎 = sqrt( (𝑏−𝑎)^2 / 12) \n",
    "    return (2*K*𝜃max+2*(r-p)*𝜇*𝑇) / (2*𝑇*𝜃max+(𝜎**2+𝜇**2)) + (c-b)\n",
    "\n",
    "# Objective function for the supplier's expected profit over the planning horizon\n",
    "def Π(x,A,K,b,c,e,p,r,𝜃max,tmax,T):\n",
    "    𝜇 = tmax / 2  # duration of a pandemic mean, 𝜇 = (𝑎+𝑏)/2\n",
    "    𝜎 = tmax / math.sqrt(12)  # duration of a pandemic std deviation, 𝜎 = sqrt( (𝑏−𝑎)^2 / 12) \n",
    "    return (-K + (b-c+e)*T + (p-c+e-r+b)*𝜇*T/𝜃max) * x + A * ((p-b)*T + (r-b)*𝜇*T/𝜃max - (p-b)*(T*𝜇-(𝜎**2+𝜇**2)/2)/𝜃max)\n",
    "\n",
    "# Objective function for the policy-maker's expected cost for supplying the necessary EMPs over the planning horizon\n",
    "def Ω_(e,K,A,L,S,T,b,c,r,p,u,h,𝜃max,tmax):\n",
    "    N_val = N(K,b,c,p,r,𝜃max,tmax,T)\n",
    "    if e <= N_val:\n",
    "        return (T*r)/(2*u*𝜃max*tmax) * 𝑆**2 - ( (h*T**2 + 2*T*r)/(2*𝜃max) - p - h*T  ) * 𝑆 + (u*r*T*tmax)/(2*𝜃max)\n",
    "    else: # e > N\n",
    "        if (u-A)*L <= S <= (u-A)*tmax:\n",
    "            return (T*(u*r-p*A)/(2*𝜃max*tmax*u*(u-A))) * S**2 + (p+h*T-h*T**2/(2*𝜃max)-r*T/𝜃max) * 𝑆 + \\\n",
    "                    N_val*A*T + N_val*A*tmax**2/(6*𝜃max) + T*tmax/(2*𝜃max)*(p*A+r*(u-A))\n",
    "        elif S >= (u-A)*tmax:\n",
    "            return ((p*T)/(2*u*𝜃max*tmax)) * S**2 + (p+h*T-h*T**2/(2*𝜃max)-p*T/𝜃max) * 𝑆 + \\\n",
    "                    N_val*A*T + N_val*A*tmax**2/(6*𝜃max) + p*T*u*tmax/(2*𝜃max)\n",
    "        else:\n",
    "            return np.nan\n",
    "#             raise ValueError(f'S = {S} value is out of bound')\n",
    "\n",
    "Ω = np.vectorize(Ω_)\n",
    "\n",
    "def Lmax(r,p,h,𝜃max,tmax,T):\n",
    "    return (r - p*𝜃max/T + h*T/2 - h*𝜃max) * tmax/r"
   ]
  },
  {
   "cell_type": "code",
   "execution_count": 84,
   "metadata": {},
   "outputs": [
    {
     "data": {
      "application/vnd.jupyter.widget-view+json": {
       "model_id": "03570813ddb845c28d361a17a4337e50",
       "version_major": 2,
       "version_minor": 0
      },
      "text/plain": [
       "Canvas(toolbar=Toolbar(toolitems=[('Home', 'Reset original view', 'home', 'home'), ('Back', 'Back to previous …"
      ]
     },
     "metadata": {},
     "output_type": "display_data"
    },
    {
     "data": {
      "application/vnd.jupyter.widget-view+json": {
       "model_id": "90c86da5bbe347f387397a19d6cdf8ae",
       "version_major": 2,
       "version_minor": 0
      },
      "text/plain": [
       "interactive(children=(FloatSlider(value=0.1, description='K', max=2.0, step=0.05), IntSlider(value=5, descript…"
      ]
     },
     "metadata": {},
     "output_type": "display_data"
    }
   ],
   "source": [
    "zeta = 0.01\n",
    "\n",
    "fig = plt.figure()\n",
    "ax = fig.gca()\n",
    "sz = 100  # graph resolution\n",
    "\n",
    "gap_x = 6e6*.005\n",
    "loc_y = 1.47e8\n",
    "\n",
    "line1, = plt.plot([0,1],[0,1],label='$\\Omega(S),x^*=0,e^*=0$',color='b')\n",
    "line2, = plt.plot([1,2],[1,0],label='$\\Omega(S),x^*=A,e^*=N$',color='chocolate')\n",
    "text3 = plt.text(0,loc_y, '$uL$',rotation=90,color='b',va='top')\n",
    "line3 = plt.axvline(0,linestyle='--',color='b')\n",
    "text4 = plt.text(0,loc_y, '$ut_{max}$',rotation=90,color='k',va='top')\n",
    "line4 = plt.axvline(0,linestyle='--',color='k')\n",
    "text5 = plt.text(0,loc_y, '$(u-A)L$',rotation=90,color='chocolate',va='top')\n",
    "line5 = plt.axvline(0,linestyle='--',color='chocolate')\n",
    "text6 = plt.text(0,loc_y, '$(u-A)t_{max}$',rotation=90,color='chocolate',va='top')\n",
    "line6 = plt.axvline(0,linestyle='--',color='chocolate')\n",
    "\n",
    "@widgets.interact(K = (0.0,2.0,0.05), b = (1,10), c = (1,10), p = (1,20), r = (1,100), h = (0.0,10.0,0.1), \n",
    "                  T = (3*365,15*365), L = (0,3*365), \n",
    "                  u = (2500,7500), A = (1000,7000),\n",
    "                  𝜃max = (10*365,100*365), tmax = (.5*365,5*365))\n",
    "def GenPlot(K = 0.1, b = 5, c = 7, p = 10, r = 40, h = 0.5, T = 5*365, L = 60, u = 5720, A = 2860, 𝜃max = 20*365, tmax = 3*365):\n",
    "#     print(f'{zeta=}\\n{K=}\\n{b=}\\n{c=}\\n{p=}\\n{r=}\\n{h=}\\n{T=}\\n{L=}\\n{u=}\\n{A=}\\n{𝜃max=}\\n{tmax=}')\n",
    "    display(f'L = {L:.0f}')\n",
    "    display(f'tmax = {tmax:.0f}')\n",
    "    display(f'Lmax(r,p,h,𝜃max,tmax,T) = {Lmax(r,p,h,𝜃max,tmax,T):.0f}')\n",
    "    display(f'r*u/(r*u-p*A) = {r*u/(r*u-p*A):.2f}')\n",
    "    display(f'r*u/(r*u-p*A) * Lmax = {r*u/(r*u-p*A) * Lmax(r,p,h,𝜃max,tmax,T):.0f}')\n",
    "\n",
    "    h /= 100\n",
    "    S1 = np.linspace(u*L, u*tmax, sz)\n",
    "    e1 = 0\n",
    "    cost1 = Ω(e1,K,A,L,S1,T,b,c,r,p,u,h,𝜃max,tmax)\n",
    "    line1.set_xdata(S1)\n",
    "    line1.set_ydata(cost1)\n",
    "\n",
    "    S2 = np.linspace((u-A)*L, u*tmax, sz)\n",
    "    e2 = N(K,b,c,p,r,𝜃max,tmax,T) + zeta\n",
    "    cost2 = Ω(e2,K,A,L,S2,T,b,c,r,p,u,h,𝜃max,tmax)\n",
    "    line2.set_xdata(S2)\n",
    "    line2.set_ydata(cost2)\n",
    "\n",
    "    val = u*L\n",
    "    text3.set_position((val+gap_x,loc_y))\n",
    "    line3.set_xdata(len(line3.get_xdata())*[val])\n",
    "    val = u*tmax\n",
    "    text4.set_position((val+gap_x,loc_y))\n",
    "    line4.set_xdata(len(line4.get_xdata())*[val])\n",
    "    val = (u-A)*L\n",
    "    text5.set_position((val+gap_x,loc_y))\n",
    "    line5.set_xdata(len(line5.get_xdata())*[val])\n",
    "    val = (u-A)*tmax\n",
    "    text6.set_position((val+gap_x,loc_y))\n",
    "    line6.set_xdata(len(line6.get_xdata())*[val])\n",
    "\n",
    "    ax.set_xlabel('S')\n",
    "    ax.set_ylabel('Cost')\n",
    "    plt.legend()\n",
    "    plt.xlim(0, np.max([S1,S2])*1.1)\n",
    "    plt.ylim(np.min([cost1,cost2])*.7, np.max([cost1,cost2])*1.1)"
   ]
  },
  {
   "cell_type": "raw",
   "metadata": {},
   "source": [
    "SMALL_VALUE = 0.01\n",
    "\n",
    "K = 0.1       # €, On-shoring cost; relocation cost per unit of capacity\n",
    "b = 5         # €, Offshore unit production cost\n",
    "c = 7         # €, Supplier local unit production cost\n",
    "p = 10        # €, Average unit-price of the EMP in normal times, i.e regular price, realistic\n",
    "r = 40        # €, Average unit-price of the EMP in a pandemic, i.e. spot price, between 2 and 6 times p\n",
    "h = 0.005     # €/day, Strategic stock unit holding cost per unit of time, include operational aspect of stock rotation\n",
    "T = 5*365     # days, = 5 years, Time planning horizon\n",
    "L = 60        # days, Spot market lead time for acquiring EMP units\n",
    "u = 5720      # units, Units of EMP required per unit of time to manage the pandemic for a given population and contagion risk, realistic based on french news\n",
    "A = 2860      # units, The supplier's initial offshore production capacity per unit of time\n",
    "𝜃max = 20*365 # days, = 20 years, Maximum time between the beginning of the planning horizon and the next expected pandemic\n",
    "tmax = 3*365  # days, = 3 years, Maximum duration of the pandemic period, hurd immunity\n",
    "\n",
    "e   Amount of public support per unit of locally manufactured (a policy-maker decision variable)\n",
    "x   Production capacity per unit of time allocated to local production (a supplier decision variable)\n",
    "y   Production capacity per unit of time allocated to offshore production (a supplier decision variable)\n",
    "S   Strategic stock size of EMP (a policy-maker decision variable)"
   ]
  },
  {
   "cell_type": "code",
   "execution_count": null,
   "metadata": {},
   "outputs": [],
   "source": []
  }
 ],
 "metadata": {
  "kernelspec": {
   "display_name": "Python 3",
   "language": "python",
   "name": "python3"
  },
  "language_info": {
   "codemirror_mode": {
    "name": "ipython",
    "version": 3
   },
   "file_extension": ".py",
   "mimetype": "text/x-python",
   "name": "python",
   "nbconvert_exporter": "python",
   "pygments_lexer": "ipython3",
   "version": "3.8.5"
  }
 },
 "nbformat": 4,
 "nbformat_minor": 4
}
